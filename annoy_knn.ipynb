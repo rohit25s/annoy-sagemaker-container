{
 "cells": [
  {
   "cell_type": "code",
   "execution_count": 130,
   "id": "cbfdce97",
   "metadata": {},
   "outputs": [],
   "source": [
    "import pandas as pd\n",
    "import boto3\n",
    "import io\n",
    "import numpy as np\n",
    "import os\n",
    "from boto3.s3.transfer import TransferConfig"
   ]
  },
  {
   "cell_type": "code",
   "execution_count": 131,
   "id": "91acf8e3",
   "metadata": {},
   "outputs": [],
   "source": [
    "import sagemaker\n",
    "import boto3\n",
    "from sagemaker import get_execution_role\n",
    "import botocore.config\n",
    "region = \"ap-southeast-1\"\n",
    "bucket = \"test-data\"\n",
    "session = sagemaker.Session()\n"
   ]
  },
  {
   "cell_type": "code",
   "execution_count": 2,
   "id": "4662077e",
   "metadata": {},
   "outputs": [],
   "source": [
    "get_execution_role()"
   ]
  },
  {
   "cell_type": "code",
   "execution_count": 132,
   "id": "b93ca310",
   "metadata": {},
   "outputs": [],
   "source": [
    "role = get_execution_role()\n",
    "config = botocore.config.Config(read_timeout=5000)\n",
    "\n",
    "# This is the client we will use to interact with SageMaker AutoPilot\n",
    "sm = boto3.Session().client(service_name='sagemaker',region_name=region, config=config)"
   ]
  },
  {
   "cell_type": "code",
   "execution_count": 133,
   "id": "b0019175",
   "metadata": {},
   "outputs": [],
   "source": [
    "bucket = \"test-data\"\n",
    "prefix = \"sagemaker/annoy-knn-transformer\""
   ]
  },
  {
   "cell_type": "code",
   "execution_count": 293,
   "id": "567ec621",
   "metadata": {},
   "outputs": [],
   "source": [
    "import sagemaker as sage\n",
    "from time import gmtime, strftime\n",
    "\n",
    "sess = sage.Session()\n",
    "account = sess.boto_session.client('sts').get_caller_identity()['Account']\n",
    "region = sess.boto_session.region_name\n",
    "image = '{}.dkr.ecr.{}.amazonaws.com/annoy-knn-test:latest'.format(account, region)\n",
    "print(image)"
   ]
  },
  {
   "cell_type": "code",
   "execution_count": 294,
   "id": "9f06ca6e",
   "metadata": {},
   "outputs": [],
   "source": [
    "import sagemaker\n",
    "from sagemaker import get_execution_role\n",
    "from sagemaker.serializers import CSVSerializer\n",
    "from sagemaker.serializers import JSONSerializer\n",
    "from sagemaker.deserializers import JSONDeserializer\n",
    "from sagemaker.deserializers import StringDeserializer\n",
    "from sagemaker.deserializers import CSVDeserializer\n",
    "\n",
    "from sagemaker.amazon.amazon_estimator import get_image_uri\n",
    "\n",
    "\n",
    "def trained_estimator_from_hyperparams(s3_train_data, hyperparams, output_path, s3_test_data=None):\n",
    "    knn = sagemaker.estimator.Estimator(\n",
    "        image,\n",
    "        get_execution_role(),\n",
    "        instance_count=1,\n",
    "        instance_type=\"ml.m5.2xlarge\",\n",
    "        volume_size=100,\n",
    "        output_path=output_path,\n",
    "        sagemaker_session=sagemaker.Session(),\n",
    "    )\n",
    "    knn.set_hyperparameters(**hyperparams)\n",
    "\n",
    "    fit_input = {\"training\": s3_train_data}\n",
    "    if s3_test_data is not None:\n",
    "        fit_input[\"test\"] = s3_test_data\n",
    "    knn.fit(fit_input)\n",
    "    return knn"
   ]
  },
  {
   "cell_type": "code",
   "execution_count": 407,
   "id": "2b7ba81a",
   "metadata": {},
   "outputs": [],
   "source": [
    "import datetime\n",
    "time = datetime.datetime.now().strftime(\"%m-%d-%Y-%H-%M-%S\")\n",
    "prefix_key = \"annoy-knn-\" + str(time)\n",
    "knn_output_path = \"s3://test-data/annoy-knn/nns/\" + prefix_key"
   ]
  },
  {
   "cell_type": "code",
   "execution_count": 408,
   "id": "2dd05747",
   "metadata": {},
   "outputs": [],
   "source": [
    "hyperparams = {\n",
    "    \"feature_dim\": 80,\n",
    "    \"nns\": 200,\n",
    "    \"no_of_trees\":600,\n",
    "    \"metric\":\"dot\",\n",
    "    \"search_k\" : -1,\n",
    "    \"knn_all\": False, \n",
    "    \"on_disk\" : True,\n",
    "    \"output_path\" : knn_output_path,\n",
    "    \"include_distances\": True,\n",
    "    \"search_by_vector\" : True,\n",
    "    \"retrain\":False,\n",
    "    \"model_name\":\"annoy-test\"\n",
    "}"
   ]
  },
  {
   "cell_type": "code",
   "execution_count": null,
   "id": "edfebc18",
   "metadata": {},
   "outputs": [],
   "source": [
    "s3_train_data = f\"s3://test-data/annoy-user-item/data\"\n",
    "model_output_path = f\"s3://test-data/annoy-knn/model/output\"\n",
    "knn_estimator = trained_estimator_from_hyperparams(\n",
    "    s3_train_data, hyperparams, model_output_path, s3_test_data=None\n",
    ")"
   ]
  },
  {
   "cell_type": "code",
   "execution_count": 573,
   "id": "8f6babb7",
   "metadata": {},
   "outputs": [],
   "source": [
    "str(rows[0])"
   ]
  },
  {
   "cell_type": "code",
   "execution_count": 400,
   "id": "f75db008",
   "metadata": {},
   "outputs": [],
   "source": [
    "def predictor_from_estimator(knn_estimator, estimator_name, instance_type, instance_count, endpoint_name=None):\n",
    "    knn_predictor = knn_estimator.deploy(\n",
    "        initial_instance_count=instance_count, model_name = estimator_name, instance_type=instance_type, endpoint_name=endpoint_name\n",
    "    )\n",
    "    knn_predictor.serializer = CSVSerializer()\n",
    "    knn_predictor.deserializer = CSVDeserializer()\n",
    "    return knn_predictor"
   ]
  },
  {
   "cell_type": "code",
   "execution_count": 410,
   "id": "1d4cb970",
   "metadata": {},
   "outputs": [],
   "source": [
    "import datetime\n",
    "time = datetime.datetime.now().strftime(\"%m-%d-%Y-%H-%M-%S\")\n",
    "model_name = \"annoy-knn-predictor\" + str(time)\n",
    "print(model_name)"
   ]
  },
  {
   "cell_type": "code",
   "execution_count": 435,
   "id": "2873226a",
   "metadata": {},
   "outputs": [],
   "source": [
    "import time\n",
    "\n",
    "instance_type = \"ml.c5d.4xlarge\"\n",
    "instance_count = 1\n",
    "#model_name = \"annoy-knn-%\"\n",
    "endpoint_name = \"knn-%s\" % (str(time.time()).replace(\".\", \"-\"))\n",
    "print(\"setting up the endpoint..\")\n",
    "predictor = predictor_from_estimator(\n",
    "    knn_estimator, model_name, instance_type, instance_count, endpoint_name=endpoint_name,\n",
    ")"
   ]
  },
  {
   "cell_type": "code",
   "execution_count": 501,
   "id": "889a744f",
   "metadata": {},
   "outputs": [],
   "source": [
    "def invoke():\n",
    "    start_time = datetime.datetime.now()\n",
    "    payload = '{payload}'\n",
    "    response = runtime.invoke_endpoint(EndpointName='{endpoint_name}' ,\n",
    "                                           ContentType='text/csv',\n",
    "                                           Body=payload)\n",
    "    invoke_time = datetime.datetime.now() - start_time\n",
    "    return [str(invoke_time), response['ResponseMetadata']['HTTPStatusCode']]"
   ]
  },
  {
   "cell_type": "code",
   "execution_count": 502,
   "id": "d583dbbf",
   "metadata": {},
   "outputs": [],
   "source": [
    "from joblib import Parallel, delayed\n",
    "import multiprocessing\n",
    "cpu_count = multiprocessing.cpu_count()\n",
    "Parallel(n_jobs=cpu_count, require=\"sharedmem\")(\n",
    "                delayed(invoke)() for i in range(20)\n",
    "    )"
   ]
  },
  {
   "cell_type": "code",
   "execution_count": 438,
   "id": "c82b8ce6",
   "metadata": {},
   "outputs": [],
   "source": [
    "response['Body'].read().decode()"
   ]
  },
  {
   "cell_type": "code",
   "execution_count": null,
   "id": "47c24c02",
   "metadata": {},
   "outputs": [],
   "source": []
  },
  {
   "cell_type": "code",
   "execution_count": null,
   "id": "ea2e8b23",
   "metadata": {},
   "outputs": [],
   "source": []
  }
 ],
 "metadata": {
  "kernelspec": {
   "display_name": "conda_python3",
   "language": "python",
   "name": "conda_python3"
  },
  "language_info": {
   "codemirror_mode": {
    "name": "ipython",
    "version": 3
   },
   "file_extension": ".py",
   "mimetype": "text/x-python",
   "name": "python",
   "nbconvert_exporter": "python",
   "pygments_lexer": "ipython3",
   "version": "3.6.13"
  }
 },
 "nbformat": 4,
 "nbformat_minor": 5
}
